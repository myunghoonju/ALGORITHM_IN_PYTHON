{
 "cells": [
  {
   "cell_type": "markdown",
   "metadata": {},
   "source": [
    "# This section provides various algorithmic topics and fully-solved problems"
   ]
  },
  {
   "cell_type": "markdown",
   "metadata": {},
   "source": [
    "### Q. Compute 3x + 2y"
   ]
  },
  {
   "cell_type": "code",
   "execution_count": 1,
   "metadata": {},
   "outputs": [
    {
     "name": "stdout",
     "output_type": "stream",
     "text": [
      "type a number(INTEGER ONLY): 10\n",
      "type a number(INTEGER ONLY): 10\n",
      "3*10 + 2*10 = 50\n"
     ]
    }
   ],
   "source": [
    "x = int(input(\"type a number(INTEGER ONLY): \"))\n",
    "y = int(input(\"type a number(INTEGER ONLY): \"))\n",
    "print(\"3*%i + 2*%i = %i\" %(x,y,3*x+2*y))"
   ]
  },
  {
   "cell_type": "markdown",
   "metadata": {},
   "source": [
    "### Q. Compute 3x^2 + 2y^2"
   ]
  },
  {
   "cell_type": "code",
   "execution_count": 5,
   "metadata": {},
   "outputs": [
    {
     "name": "stdout",
     "output_type": "stream",
     "text": [
      "type a number(INTEGER ONLY): 2\n",
      "type a number(INTEGER ONLY): 2\n",
      "3*2^2 + 2*2^2 = 20\n"
     ]
    }
   ],
   "source": [
    "x = int(input(\"type a number(INTEGER ONLY): \"))\n",
    "y = int(input(\"type a number(INTEGER ONLY): \"))\n",
    "print(\"3*%i^2 + 2*%i^2 = %i\" %(x,y,3*pow(x,2)+2*pow(y,2)))"
   ]
  },
  {
   "cell_type": "markdown",
   "metadata": {},
   "source": [
    "### Q. Compute log(x)"
   ]
  },
  {
   "cell_type": "code",
   "execution_count": 6,
   "metadata": {},
   "outputs": [
    {
     "name": "stdout",
     "output_type": "stream",
     "text": [
      "log(1) = 0.000000\n",
      "log(2) = 0.693147\n",
      "log(3) = 1.098612\n",
      "log(4) = 1.386294\n",
      "log(5) = 1.609438\n",
      "log(6) = 1.791759\n",
      "log(7) = 1.945910\n",
      "log(8) = 2.079442\n",
      "log(9) = 2.197225\n",
      "log(10) = 2.302585\n"
     ]
    }
   ],
   "source": [
    "import math\n",
    "for i in range(1,11):\n",
    "    print(\"log(%i) = %f\" %(i,math.log(i))) "
   ]
  },
  {
   "cell_type": "markdown",
   "metadata": {},
   "source": [
    "<u>More log(x)!!!</u>"
   ]
  },
  {
   "cell_type": "code",
   "execution_count": 35,
   "metadata": {},
   "outputs": [
    {
     "name": "stdout",
     "output_type": "stream",
     "text": [
      "*\n",
      "# of spaces:0\n",
      "                    *\n",
      "# of spaces:20\n",
      "                                *\n",
      "# of spaces:32\n",
      "                                         *\n",
      "# of spaces:41\n",
      "                                                *\n",
      "# of spaces:48\n",
      "                                                     *\n",
      "# of spaces:53\n",
      "                                                          *\n",
      "# of spaces:58\n",
      "                                                              *\n",
      "# of spaces:62\n",
      "                                                                 *\n",
      "# of spaces:65\n",
      "                                                                     *\n",
      "# of spaces:69\n",
      "                                                                       *\n",
      "# of spaces:71\n",
      "                                                                          *\n",
      "# of spaces:74\n",
      "                                                                            *\n",
      "# of spaces:76\n",
      "                                                                               *\n",
      "# of spaces:79\n",
      "                                                                                 *\n",
      "# of spaces:81\n",
      "                                                                                   *\n",
      "# of spaces:83\n",
      "                                                                                    *\n",
      "# of spaces:84\n",
      "                                                                                      *\n",
      "# of spaces:86\n",
      "                                                                                        *\n",
      "# of spaces:88\n",
      "                                                                                         *\n",
      "# of spaces:89\n"
     ]
    }
   ],
   "source": [
    "import math\n",
    "\n",
    "for i in range(1,21):\n",
    "    k = math.log(i)*30.0\n",
    "    print(\"%s*\" %(\" \"*int(k)))\n",
    "    print(\"# of spaces:%s%i\" %(\"\"*int(k),k))"
   ]
  },
  {
   "cell_type": "markdown",
   "metadata": {},
   "source": [
    "### Sine Cosine Tangent"
   ]
  },
  {
   "cell_type": "markdown",
   "metadata": {},
   "source": [
    "How to transform degree into radian?<br>\n",
    "=> radian = (degree * phi) / 180"
   ]
  },
  {
   "cell_type": "code",
   "execution_count": 38,
   "metadata": {},
   "outputs": [
    {
     "name": "stdout",
     "output_type": "stream",
     "text": [
      "SIN(30) = 0.500000\n",
      "SIN(30) = 0.500000\n",
      "          \n",
      "COS(30) = 0.866025\n",
      "COS(30) = 0.866025\n",
      "          \n",
      "TAN(30) = 0.577350\n",
      "TAN(30) = 0.577350\n"
     ]
    }
   ],
   "source": [
    "import math\n",
    "\n",
    "print(\"SIN(30) = %f\" %(math.sin((30*3.141592)/180.0)))\n",
    "print(\"SIN(30) = %f\" %(math.sin(math.radians(30))))\n",
    "print(\" \"*10)\n",
    "print(\"COS(30) = %f\" %(math.cos((30*3.141592)/180.0)))\n",
    "print(\"COS(30) = %f\" %(math.cos(math.radians(30))))\n",
    "print(\" \"*10)\n",
    "print(\"TAN(30) = %f\" %(math.tan((30*3.141592)/180.0)))\n",
    "print(\"TAN(30) = %f\" %(math.tan(math.radians(30))))"
   ]
  }
 ],
 "metadata": {
  "kernelspec": {
   "display_name": "Python 3.6 (tensorflow)",
   "language": "python",
   "name": "tensorflow"
  },
  "language_info": {
   "codemirror_mode": {
    "name": "ipython",
    "version": 3
   },
   "file_extension": ".py",
   "mimetype": "text/x-python",
   "name": "python",
   "nbconvert_exporter": "python",
   "pygments_lexer": "ipython3",
   "version": "3.6.8"
  }
 },
 "nbformat": 4,
 "nbformat_minor": 2
}
