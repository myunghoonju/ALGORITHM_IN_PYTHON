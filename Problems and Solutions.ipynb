{
 "cells": [
  {
   "cell_type": "markdown",
   "metadata": {},
   "source": [
    "# This section provides various algorithmic topics and fully-solved problems"
   ]
  },
  {
   "cell_type": "markdown",
   "metadata": {},
   "source": [
    "### Q01. Compute 3x + 2y"
   ]
  },
  {
   "cell_type": "code",
   "execution_count": 1,
   "metadata": {},
   "outputs": [
    {
     "name": "stdout",
     "output_type": "stream",
     "text": [
      "type a number(INTEGER ONLY): 10\n",
      "type a number(INTEGER ONLY): 10\n",
      "3*10 + 2*10 = 50\n"
     ]
    }
   ],
   "source": [
    "x = int(input(\"type a number(INTEGER ONLY): \"))\n",
    "y = int(input(\"type a number(INTEGER ONLY): \"))\n",
    "print(\"3*%i + 2*%i = %i\" %(x,y,3*x+2*y))"
   ]
  },
  {
   "cell_type": "markdown",
   "metadata": {},
   "source": [
    "### Q02. Compute 3x^2 + 2y^2"
   ]
  },
  {
   "cell_type": "code",
   "execution_count": 5,
   "metadata": {},
   "outputs": [
    {
     "name": "stdout",
     "output_type": "stream",
     "text": [
      "type a number(INTEGER ONLY): 2\n",
      "type a number(INTEGER ONLY): 2\n",
      "3*2^2 + 2*2^2 = 20\n"
     ]
    }
   ],
   "source": [
    "x = int(input(\"type a number(INTEGER ONLY): \"))\n",
    "y = int(input(\"type a number(INTEGER ONLY): \"))\n",
    "print(\"3*%i^2 + 2*%i^2 = %i\" %(x,y,3*pow(x,2)+2*pow(y,2)))"
   ]
  },
  {
   "cell_type": "markdown",
   "metadata": {},
   "source": [
    "### Q03. Compute log(x)"
   ]
  },
  {
   "cell_type": "code",
   "execution_count": 6,
   "metadata": {},
   "outputs": [
    {
     "name": "stdout",
     "output_type": "stream",
     "text": [
      "log(1) = 0.000000\n",
      "log(2) = 0.693147\n",
      "log(3) = 1.098612\n",
      "log(4) = 1.386294\n",
      "log(5) = 1.609438\n",
      "log(6) = 1.791759\n",
      "log(7) = 1.945910\n",
      "log(8) = 2.079442\n",
      "log(9) = 2.197225\n",
      "log(10) = 2.302585\n"
     ]
    }
   ],
   "source": [
    "import math\n",
    "for i in range(1,11):\n",
    "    print(\"log(%i) = %f\" %(i,math.log(i))) "
   ]
  },
  {
   "cell_type": "markdown",
   "metadata": {},
   "source": [
    "<u>More log(x)!!!</u>"
   ]
  },
  {
   "cell_type": "code",
   "execution_count": 35,
   "metadata": {},
   "outputs": [
    {
     "name": "stdout",
     "output_type": "stream",
     "text": [
      "*\n",
      "# of spaces:0\n",
      "                    *\n",
      "# of spaces:20\n",
      "                                *\n",
      "# of spaces:32\n",
      "                                         *\n",
      "# of spaces:41\n",
      "                                                *\n",
      "# of spaces:48\n",
      "                                                     *\n",
      "# of spaces:53\n",
      "                                                          *\n",
      "# of spaces:58\n",
      "                                                              *\n",
      "# of spaces:62\n",
      "                                                                 *\n",
      "# of spaces:65\n",
      "                                                                     *\n",
      "# of spaces:69\n",
      "                                                                       *\n",
      "# of spaces:71\n",
      "                                                                          *\n",
      "# of spaces:74\n",
      "                                                                            *\n",
      "# of spaces:76\n",
      "                                                                               *\n",
      "# of spaces:79\n",
      "                                                                                 *\n",
      "# of spaces:81\n",
      "                                                                                   *\n",
      "# of spaces:83\n",
      "                                                                                    *\n",
      "# of spaces:84\n",
      "                                                                                      *\n",
      "# of spaces:86\n",
      "                                                                                        *\n",
      "# of spaces:88\n",
      "                                                                                         *\n",
      "# of spaces:89\n"
     ]
    }
   ],
   "source": [
    "import math\n",
    "\n",
    "for i in range(1,21):\n",
    "    k = math.log(i)*30.0\n",
    "    print(\"%s*\" %(\" \"*int(k)))\n",
    "    print(\"# of spaces:%s%i\" %(\"\"*int(k),k))"
   ]
  },
  {
   "cell_type": "markdown",
   "metadata": {},
   "source": [
    "### Q04. Sine Cosine Tangent"
   ]
  },
  {
   "cell_type": "markdown",
   "metadata": {},
   "source": [
    "How to transform degree into radian?<br>\n",
    "=> radian = (degree * phi) / 180"
   ]
  },
  {
   "cell_type": "code",
   "execution_count": 38,
   "metadata": {},
   "outputs": [
    {
     "name": "stdout",
     "output_type": "stream",
     "text": [
      "SIN(30) = 0.500000\n",
      "SIN(30) = 0.500000\n",
      "          \n",
      "COS(30) = 0.866025\n",
      "COS(30) = 0.866025\n",
      "          \n",
      "TAN(30) = 0.577350\n",
      "TAN(30) = 0.577350\n"
     ]
    }
   ],
   "source": [
    "import math\n",
    "\n",
    "print(\"SIN(30) = %f\" %(math.sin((30*3.141592)/180.0)))\n",
    "print(\"SIN(30) = %f\" %(math.sin(math.radians(30))))\n",
    "print(\" \"*10)\n",
    "print(\"COS(30) = %f\" %(math.cos((30*3.141592)/180.0)))\n",
    "print(\"COS(30) = %f\" %(math.cos(math.radians(30))))\n",
    "print(\" \"*10)\n",
    "print(\"TAN(30) = %f\" %(math.tan((30*3.141592)/180.0)))\n",
    "print(\"TAN(30) = %f\" %(math.tan(math.radians(30))))"
   ]
  },
  {
   "cell_type": "markdown",
   "metadata": {},
   "source": [
    "### Q05. AVERAGE WITH %f"
   ]
  },
  {
   "cell_type": "code",
   "execution_count": 1,
   "metadata": {},
   "outputs": [
    {
     "name": "stdout",
     "output_type": "stream",
     "text": [
      "type integer only: 1\n",
      "type integer only: 2\n",
      "type integer only: 3\n",
      "type integer only: 4\n",
      "average of 1,2,3,4 : 2.500000 \n"
     ]
    }
   ],
   "source": [
    "a = int(input(\"type integer only: \"))\n",
    "b = int(input(\"type integer only: \"))\n",
    "c = int(input(\"type integer only: \"))\n",
    "d = int(input(\"type integer only: \"))\n",
    "\n",
    "avg = (a+b+c+d)/4\n",
    "print(\"average of %i,%i,%i,%i : %f \" %(a,b,c,d, avg))"
   ]
  },
  {
   "cell_type": "markdown",
   "metadata": {},
   "source": [
    "### Q06. Power function"
   ]
  },
  {
   "cell_type": "code",
   "execution_count": 1,
   "metadata": {},
   "outputs": [
    {
     "name": "stdout",
     "output_type": "stream",
     "text": [
      "type a number( in the range 1 to 100): 12\n",
      "power of (12 -1)^3 : 1331\n"
     ]
    }
   ],
   "source": [
    "x = 0\n",
    "while(x < 1 ):\n",
    "    x = int(input(\"type a number( in the range 1 to 100): \"))\n",
    "\n",
    "#aaa=(a-1)**3 or (a-1)*(a-1)*(a-1)\n",
    "aaa=pow((x-1),3)\n",
    "print(\"power of (%i -1)^3 : %i\" %(x,aaa))\n"
   ]
  },
  {
   "cell_type": "markdown",
   "metadata": {},
   "source": [
    "### Q07. Compare numbers[the highest]"
   ]
  },
  {
   "cell_type": "code",
   "execution_count": 5,
   "metadata": {},
   "outputs": [
    {
     "name": "stdout",
     "output_type": "stream",
     "text": [
      "(1)type a number(1~100): 1\n",
      "[1, 0, 0, 0, 0, 0, 0, 0, 0, 0]\n",
      "(2)type a number(1~100): 2\n",
      "[1, 2, 0, 0, 0, 0, 0, 0, 0, 0]\n",
      "(3)type a number(1~100): 3\n",
      "[1, 2, 3, 0, 0, 0, 0, 0, 0, 0]\n",
      "(4)type a number(1~100): 2\n",
      "[1, 2, 3, 2, 0, 0, 0, 0, 0, 0]\n",
      "(5)type a number(1~100): 3\n",
      "[1, 2, 3, 2, 3, 0, 0, 0, 0, 0]\n",
      "(6)type a number(1~100): 2\n",
      "[1, 2, 3, 2, 3, 2, 0, 0, 0, 0]\n",
      "(7)type a number(1~100): 4\n",
      "[1, 2, 3, 2, 3, 2, 4, 0, 0, 0]\n",
      "(8)type a number(1~100): 5\n",
      "[1, 2, 3, 2, 3, 2, 4, 5, 0, 0]\n",
      "(9)type a number(1~100): 6\n",
      "[1, 2, 3, 2, 3, 2, 4, 5, 6, 0]\n",
      "(10)type a number(1~100): 10\n",
      "[1, 2, 3, 2, 3, 2, 4, 5, 6, 10]\n",
      "the highest number is: 10\n"
     ]
    }
   ],
   "source": [
    "##### initialize list\n",
    "numbers = []\n",
    "for i in range(10):\n",
    "    numbers.append(0)\n",
    "\n",
    "highest = 0\n",
    "\n",
    "for i in range(10):\n",
    "    while(numbers[i] < 1 or numbers[i] > 101):\n",
    "        numbers[i] = int(input(\"(%i)type a number(1~100): \" %(i+1)))\n",
    "    if(highest < numbers[i]):\n",
    "        highest = numbers[i]\n",
    "    print(numbers)\n",
    "\n",
    "print(\"the highest number is: %i\" %highest)"
   ]
  },
  {
   "cell_type": "markdown",
   "metadata": {},
   "source": [
    "### Q08. Compare numbers[min&max]"
   ]
  },
  {
   "cell_type": "code",
   "execution_count": 3,
   "metadata": {},
   "outputs": [
    {
     "name": "stdout",
     "output_type": "stream",
     "text": [
      "(1) type in(1~100):12\n",
      "\n",
      "current array:\n",
      "[12, 0, 0, 0, 0]\n",
      "\n",
      "(2) type in(1~100):44\n",
      "\n",
      "current array:\n",
      "[12, 44, 0, 0, 0]\n",
      "\n",
      "(3) type in(1~100):44\n",
      "\n",
      "current array:\n",
      "[12, 44, 44, 0, 0]\n",
      "\n",
      "(4) type in(1~100):22\n",
      "\n",
      "current array:\n",
      "[12, 44, 44, 22, 0]\n",
      "\n",
      "(5) type in(1~100):55\n",
      "\n",
      "current array:\n",
      "[12, 44, 44, 22, 55]\n",
      "\n",
      "min: 12\n",
      "max: 55\n"
     ]
    }
   ],
   "source": [
    "numbers = []\n",
    "for i in range(5):\n",
    "    numbers.append(0)\n",
    "\n",
    "min = 999\n",
    "max = 0\n",
    "\n",
    "for i in range(5):\n",
    "    while numbers[i] < 1 or numbers[i] > 999:\n",
    "        numbers[i] = int(input(\"(%i) type in(1~100):\" %(i+1) ))\n",
    "        if max < numbers[i]:\n",
    "            max = numbers[i]\n",
    "\n",
    "        if min > numbers[i]:\n",
    "            min = numbers[i]\n",
    "        print(\"\")\n",
    "        print(\"current array:\")\n",
    "        print(numbers)\n",
    "        print(\"\")\n",
    "\n",
    "print(\"min: %i\" %min)\n",
    "print(\"max: %i\" %max)"
   ]
  },
  {
   "cell_type": "markdown",
   "metadata": {},
   "source": [
    "### Q09. Greatest Common Divisor(GCD) & Least Common Multiple(LCM)"
   ]
  },
  {
   "cell_type": "code",
   "execution_count": 4,
   "metadata": {},
   "outputs": [
    {
     "name": "stdout",
     "output_type": "stream",
     "text": [
      "type a number: 24\n",
      "more number: 10\n",
      "GCD of 24 and 10 is 2\n"
     ]
    }
   ],
   "source": [
    "#use Euclidean algorithm\n",
    "def __gcd(p,q):\n",
    "    return p if q == 0 else __gcd(q,int(p%q))\n",
    "\n",
    "def gcd(a,b):\n",
    "    return __gcd(a,b) if a > b else __gcd(b,a)\n",
    "\n",
    "a = int(input(\"type a number: \"))\n",
    "b = int(input(\"more number: \"))\n",
    "\n",
    "print(\"GCD of %i and %i is %i\" %(a,b,gcd(a,b)))"
   ]
  },
  {
   "cell_type": "markdown",
   "metadata": {},
   "source": [
    "### Q10. mean, variance, and standard deviation"
   ]
  },
  {
   "cell_type": "code",
   "execution_count": 1,
   "metadata": {},
   "outputs": [
    {
     "name": "stdout",
     "output_type": "stream",
     "text": [
      "[60, 70, 65, 85, 95, 88, 100, 75, 50]\n",
      "average = 76.444\n",
      " variance = 250.025\n",
      " standard deviation = 15.812\n",
      "\n"
     ]
    }
   ],
   "source": [
    "import math\n",
    "\n",
    "scores = [60,70,65,85,95,88,100,75,50]\n",
    "mean = 0\n",
    "variance = 0\n",
    "\n",
    "count = len(scores) # how many they are?\n",
    "total = sum(scores) # what is the sum?\n",
    "mean = total/count  # what is the mean?\n",
    "\n",
    "print(scores)\n",
    "\n",
    "for i in range(count):\n",
    "    variance = variance + ((mean - scores[i])*(mean - scores[i]))\n",
    "\n",
    "variance =variance / count #variance\n",
    "\n",
    "std_deviation = math.sqrt(variance) #standard deviation\n",
    "\n",
    "print(\"average = %.3f\\n variance = %.3f\\n standard deviation = %.3f\\n\" %(mean, variance, std_deviation))"
   ]
  },
  {
   "cell_type": "markdown",
   "metadata": {},
   "source": [
    "### Q11. Let us compute a mountain's height by walking distance & slops of it"
   ]
  },
  {
   "cell_type": "code",
   "execution_count": 3,
   "metadata": {},
   "outputs": [
    {
     "name": "stdout",
     "output_type": "stream",
     "text": [
      "Height: 129.41\n"
     ]
    }
   ],
   "source": [
    "# a slop of 15 degrees\n",
    "# height: math.sin(15*3.14 / 180) * distance\n",
    "\n",
    "import math\n",
    "\n",
    "distance = 500.0 # walking distance\n",
    "\n",
    "height = math.sin(math.radians(15)) * distance\n",
    "\n",
    "print(\"Height: %.2f\" %height)\n"
   ]
  },
  {
   "cell_type": "markdown",
   "metadata": {},
   "source": [
    "### Q12. I/O letters by alphabetical orders "
   ]
  },
  {
   "cell_type": "code",
   "execution_count": 9,
   "metadata": {},
   "outputs": [
    {
     "name": "stdout",
     "output_type": "stream",
     "text": [
      "type a letter(1): w\n",
      "type a letter(2): x\n",
      "type a letter(3): f\n",
      "type a letter(4): x\n",
      "type a letter(5): b\n",
      "type a letter(6): n\n",
      "type a letter(7): m\n",
      "type a letter(8): h\n",
      "type a letter(9): g\n",
      "type a letter(10): f\n",
      " 1 : b \n",
      " 2 : f \n",
      " 3 : f \n",
      " 4 : g \n",
      " 5 : h \n",
      " 6 : m \n",
      " 7 : n \n",
      " 8 : w \n",
      " 9 : x \n",
      "10 : x \n"
     ]
    }
   ],
   "source": [
    "names=[]\n",
    "\n",
    "\n",
    "for i in range(10):\n",
    "    names.append(input(\"type a letter(%i): \" %(i+1)))\n",
    "names.sort()\n",
    "\n",
    "for i in range(10):\n",
    "    print(\"%2i : %s \" %(i+1, names[i]))"
   ]
  },
  {
   "cell_type": "code",
   "execution_count": 28,
   "metadata": {},
   "outputs": [
    {
     "name": "stdout",
     "output_type": "stream",
     "text": [
      "ready to sort\n",
      "type a letter (1): s\n",
      "type a letter (2): w\n",
      "type a letter (3): e\n",
      "type a letter (4): d\n",
      "type a letter (5): f\n",
      "type a letter (6): r\n",
      "type a letter (7): g\n",
      "type a letter (8): h\n",
      "type a letter (9): a\n",
      "type a letter (10): z\n",
      " 1 : a\n",
      " 2 : d\n",
      " 3 : e\n",
      " 4 : f\n",
      " 5 : g\n",
      " 6 : h\n",
      " 7 : r\n",
      " 8 : s\n",
      " 9 : w\n",
      "10 : z\n"
     ]
    }
   ],
   "source": [
    "# with using bubble sort!\n",
    "def sort(a):\n",
    "    length = len(a)\n",
    "    for i in range(length):\n",
    "        for j in range(0,length-i-1):\n",
    "            if a[j] > a[j+1]:\n",
    "                a[j],a[j+1]= a[j+1],a[j]\n",
    "#-----------------------------------------------------\n",
    "names = []\n",
    "s_names = []\n",
    "\n",
    "print(\"ready to sort\")\n",
    "for i in range(10):\n",
    "    names.append(input(\"type a letter (%i): \" %(i+1)))\n",
    "\n",
    "sort(names)\n",
    "\n",
    "for i in range(10):\n",
    "    print(\"%2i : %s\" %(i+1,names[i]))\n"
   ]
  }
 ],
 "metadata": {
  "kernelspec": {
   "display_name": "Python 3.6 (tensorflow)",
   "language": "python",
   "name": "tensorflow"
  },
  "language_info": {
   "codemirror_mode": {
    "name": "ipython",
    "version": 3
   },
   "file_extension": ".py",
   "mimetype": "text/x-python",
   "name": "python",
   "nbconvert_exporter": "python",
   "pygments_lexer": "ipython3",
   "version": "3.6.8"
  }
 },
 "nbformat": 4,
 "nbformat_minor": 2
}
