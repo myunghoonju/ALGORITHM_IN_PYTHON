{
 "cells": [
  {
   "cell_type": "markdown",
   "metadata": {},
   "source": [
    "SORT FUNCTION EXAMPLE"
   ]
  },
  {
   "cell_type": "code",
   "execution_count": 16,
   "metadata": {},
   "outputs": [],
   "source": [
    "list = [5,8,10,-1,-10,100,50,90,45,64,7,\\\n",
    "        9,-20,-10,-1,0,255,500,-300,-256]"
   ]
  },
  {
   "cell_type": "code",
   "execution_count": 17,
   "metadata": {},
   "outputs": [
    {
     "name": "stdout",
     "output_type": "stream",
     "text": [
      "[5, 8, 10, -1, -10, 100, 50, 90, 45, 64, 7, 9, -20, -10, -1, 0, 255, 500, -300, -256]\n"
     ]
    }
   ],
   "source": [
    "print(list)"
   ]
  },
  {
   "cell_type": "code",
   "execution_count": 20,
   "metadata": {},
   "outputs": [
    {
     "name": "stdout",
     "output_type": "stream",
     "text": [
      "[-300, -256, -20, -10, -10, -1, -1, 0, 5, 7, 8, 9, 10, 45, 50, 64, 90, 100, 255, 500]\n"
     ]
    }
   ],
   "source": [
    "list.sort()\n",
    "print(list)"
   ]
  },
  {
   "cell_type": "markdown",
   "metadata": {},
   "source": [
    "BUBLE SORT EXAMPLE"
   ]
  },
  {
   "cell_type": "code",
   "execution_count": 28,
   "metadata": {},
   "outputs": [
    {
     "name": "stdout",
     "output_type": "stream",
     "text": [
      "MyList\n",
      "[5, 8, 10, -1, -10, 100, 50, 90, 45, 64, 7, 9, -20, -10, -1, 0, 255, 500, -300, -256]\n",
      "\n",
      "Let us bubble sort it\n",
      "*length of list: 20\n",
      "[-300, -256, -20, -10, -10, -1, -1, 0, 5, 7, 8, 9, 10, 45, 50, 64, 90, 100, 255, 500]\n"
     ]
    }
   ],
   "source": [
    "#create MyBubble func()\n",
    "\n",
    "def MyBubble(list_data):\n",
    "    cnt = len(list)\n",
    "    if cnt < 2:\n",
    "        return -1\n",
    "    else:\n",
    "        print(\"*length of list: %d\" %cnt)\n",
    "    for i in range(cnt,-1,-1):\n",
    "        for j in range(0,i-1):\n",
    "            if list_data[j] > list_data[j+1]:\n",
    "                temp = list_data[j]\n",
    "                list_data[j] = list_data[j+1]\n",
    "                list_data[j+1] = temp\n",
    "    return 0\n",
    "\n",
    "MyList = [5,8,10,-1,-10,100,50,90,45,64,7,9,-20,-10,-1,0,255,500,-300,-256]\n",
    "\n",
    "print(\"MyList\")\n",
    "print(MyList)\n",
    "print(\"\\nLet us bubble sort it\")\n",
    "MyBubble(MyList)\n",
    "print(MyList)"
   ]
  },
  {
   "cell_type": "markdown",
   "metadata": {},
   "source": [
    "SEARCHING EXAMPLE(sequential search)"
   ]
  },
  {
   "cell_type": "code",
   "execution_count": 31,
   "metadata": {},
   "outputs": [
    {
     "name": "stdout",
     "output_type": "stream",
     "text": [
      "[5, 8, 10, -1, -10, 100, 50, 90, 45, 64, 7, 9, -20, -10, -1, 0, 255, 500, -300, -256]\n",
      "10 exists in the list\n",
      "9999 does not exist in the list\n"
     ]
    }
   ],
   "source": [
    "test_list=[5,8,10,-1,-10,100,50,90,45,64,7,9,-20,-10,-1,0,255,500,-300,-256]\n",
    "print(test_list)\n",
    "\n",
    "if 10 in test_list:\n",
    "    print(\"%d exists in the list\" %10)\n",
    "else:\n",
    "    print(\"No %d\" %10)\n",
    "    \n",
    "if 9999 not in test_list:\n",
    "    print(\"%d does not exist in the list\" %9999)\n",
    "else:\n",
    "    print(\"%d does exist in the list\" %9999)"
   ]
  },
  {
   "cell_type": "markdown",
   "metadata": {},
   "source": [
    "SEARCHING EXAMPLE(binary search)"
   ]
  },
  {
   "cell_type": "code",
   "execution_count": 78,
   "metadata": {},
   "outputs": [
    {
     "name": "stdout",
     "output_type": "stream",
     "text": [
      "[0, 1, 2, 3, 4, 5, 6, 7, 8, 9, 10, 11, 12, 13, 14, 15, 16, 17, 18, 19, 20, 21, 22, 23, 24, 25, 26, 27, 28, 29, 30, 31, 32, 33, 34, 35, 36, 37, 38, 39, 40, 41, 42, 43, 44, 45, 46, 47, 48, 49, 50, 51, 52, 53, 54, 55, 56, 57, 58, 59, 60, 61, 62, 63, 64, 65, 66, 67, 68, 69, 70, 71, 72, 73, 74, 75, 76, 77, 78, 79, 80, 81, 82, 83, 84, 85, 86, 87, 88, 89, 90, 91, 92, 93, 94, 95, 96, 97, 98, 99]\n",
      "found at MyList[99]\n",
      "Not found\n",
      "found at MyList[0]\n"
     ]
    }
   ],
   "source": [
    "#left = left search\n",
    "#right = right search\n",
    "def binary_search(data_list,target,left,right):\n",
    "    if(right - left) < 2 :\n",
    "        if data_list[left] == target:\n",
    "            return left\n",
    "        elif data_list[right] == target:\n",
    "            return right\n",
    "        else:\n",
    "            return -1;\n",
    "    mid = int(left + (right - left)/2)\n",
    "\n",
    "    if data_list[mid] == target:\n",
    "        return mid\n",
    "    elif data_list[mid] > target:\n",
    "        return binary_search(data_list,target,left,mid-1)\n",
    "    else:\n",
    "        return binary_search(data_list,target,mid+1,right)\n",
    "\n",
    "def search(data_list,target):\n",
    "    return binary_search(data_list,target,0,len(data_list)-1)\n",
    "    \n",
    "############################################## MAIN\n",
    "MyList = [i for i in range(100)]\n",
    "print(MyList)\n",
    "out = search(MyList,99)\n",
    "if out == -1:\n",
    "    print(\"Not found\")\n",
    "else:\n",
    "    print(\"%s MyList[%i]\" %(\"found at\", out))\n",
    "\n",
    "out = search(MyList, -1)\n",
    "if out == -1:\n",
    "    print(\"Not found\")\n",
    "else:\n",
    "    print(\"%s MyList[%i]\" %(\"found at\", out))\n",
    "\n",
    "out = search(MyList,0)\n",
    "if ref == -1:\n",
    "    print(\"Not found\")\n",
    "else:\n",
    "    print(\"%s MyList[%i]\" %(\"found at\",out))"
   ]
  },
  {
   "cell_type": "markdown",
   "metadata": {},
   "source": [
    "List"
   ]
  },
  {
   "cell_type": "markdown",
   "metadata": {},
   "source": [
    "1. number of values in a list :\n",
    "   - print(\" # of values: %d:\" %len(my_list))\n",
    "1. print list :\n",
    "   - print(my_list)\n",
    "1. print using index : \n",
    "   - print(my_list[0])\n",
    "1. sort list :\n",
    "   - my_list.sort()\n",
    "1. delete value :\n",
    "   - del my_list[0]\n",
    "1. replace value :\n",
    "   - my_list[0] = 'apple'\n",
    "1. add value :\n",
    "   - my_list.append('fruit')\n",
    "1. combine value :\n",
    "   - new_list = my_list + ['apple']\n",
    "1. search by index\n",
    "   - my_list.index('apple')"
   ]
  },
  {
   "cell_type": "code",
   "execution_count": 2,
   "metadata": {},
   "outputs": [
    {
     "name": "stdout",
     "output_type": "stream",
     "text": [
      "1\n",
      "2\n",
      "3\n",
      "[1, 2, 3, 4, 5]\n"
     ]
    }
   ],
   "source": [
    "my_list = [1,2,3,4,5]\n",
    "print(my_list[0])\n",
    "print(my_list[1])\n",
    "print(my_list[2])\n",
    "print(my_list)"
   ]
  },
  {
   "cell_type": "code",
   "execution_count": 3,
   "metadata": {},
   "outputs": [
    {
     "name": "stdout",
     "output_type": "stream",
     "text": [
      "one\n",
      "two\n",
      "three\n",
      "['one', 'two', 'three', 'four', 'five']\n"
     ]
    }
   ],
   "source": [
    "my_list_re = [\"one\",\"two\",\"three\",\"four\",\"five\"]\n",
    "print(my_list_re[0])\n",
    "print(my_list_re[1])\n",
    "print(my_list_re[2])\n",
    "print(my_list_re)"
   ]
  },
  {
   "cell_type": "code",
   "execution_count": 4,
   "metadata": {},
   "outputs": [
    {
     "name": "stdout",
     "output_type": "stream",
     "text": [
      "1\n",
      "two\n",
      "three\n",
      "[1, 2, 3, 'one', 'two', 'three', 'four', 'five']\n"
     ]
    }
   ],
   "source": [
    "my_list_re_re = [1,2,3,\"one\",\"two\",\"three\",\"four\",\"five\"]\n",
    "print(my_list_re_re[0])\n",
    "print(my_list_re_re[4])\n",
    "print(my_list_re_re[5])\n",
    "print(my_list_re_re)"
   ]
  },
  {
   "cell_type": "code",
   "execution_count": 5,
   "metadata": {},
   "outputs": [
    {
     "name": "stdout",
     "output_type": "stream",
     "text": [
      "[None, None, None, None, None, None, None, None, None, None]\n",
      "[0, 0, 0, 0, 0, 0, 0, 0, 0, 0]\n",
      "[1, 2, 3, 4, 5, 6, 7, 8, 9, 10]\n",
      "[80, 78, 2, 95, 58, 77, 96, 82, 85, 71]\n"
     ]
    }
   ],
   "source": [
    "#Let us make a list\n",
    "import random\n",
    "\n",
    "mylist = [None]*10\n",
    "print(mylist)\n",
    "\n",
    "mylist2 = [0]*10\n",
    "print(mylist2)\n",
    "\n",
    "mylist3 = [i for i in range(1,11)] #1~10\n",
    "print(mylist3)\n",
    "\n",
    "mylist4 = [random.randint(1,100) for i in range(10)]\n",
    "print(mylist4)"
   ]
  }
 ],
 "metadata": {
  "kernelspec": {
   "display_name": "Python 3.6 (tensorflow)",
   "language": "python",
   "name": "tensorflow"
  },
  "language_info": {
   "codemirror_mode": {
    "name": "ipython",
    "version": 3
   },
   "file_extension": ".py",
   "mimetype": "text/x-python",
   "name": "python",
   "nbconvert_exporter": "python",
   "pygments_lexer": "ipython3",
   "version": "3.6.8"
  }
 },
 "nbformat": 4,
 "nbformat_minor": 2
}
