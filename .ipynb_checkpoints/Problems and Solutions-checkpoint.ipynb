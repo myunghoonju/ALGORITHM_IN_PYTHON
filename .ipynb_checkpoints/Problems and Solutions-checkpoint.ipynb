{
 "cells": [
  {
   "cell_type": "markdown",
   "metadata": {},
   "source": [
    "# This section provides various algorithmic topics and fully-solved problems"
   ]
  },
  {
   "cell_type": "markdown",
   "metadata": {},
   "source": [
    "### Q01. Compute 3x + 2y"
   ]
  },
  {
   "cell_type": "code",
   "execution_count": 1,
   "metadata": {},
   "outputs": [
    {
     "name": "stdout",
     "output_type": "stream",
     "text": [
      "type a number(INTEGER ONLY): 10\n",
      "type a number(INTEGER ONLY): 10\n",
      "3*10 + 2*10 = 50\n"
     ]
    }
   ],
   "source": [
    "x = int(input(\"type a number(INTEGER ONLY): \"))\n",
    "y = int(input(\"type a number(INTEGER ONLY): \"))\n",
    "print(\"3*%i + 2*%i = %i\" %(x,y,3*x+2*y))"
   ]
  },
  {
   "cell_type": "markdown",
   "metadata": {},
   "source": [
    "### Q02. Compute 3x^2 + 2y^2"
   ]
  },
  {
   "cell_type": "code",
   "execution_count": 5,
   "metadata": {},
   "outputs": [
    {
     "name": "stdout",
     "output_type": "stream",
     "text": [
      "type a number(INTEGER ONLY): 2\n",
      "type a number(INTEGER ONLY): 2\n",
      "3*2^2 + 2*2^2 = 20\n"
     ]
    }
   ],
   "source": [
    "x = int(input(\"type a number(INTEGER ONLY): \"))\n",
    "y = int(input(\"type a number(INTEGER ONLY): \"))\n",
    "print(\"3*%i^2 + 2*%i^2 = %i\" %(x,y,3*pow(x,2)+2*pow(y,2)))"
   ]
  },
  {
   "cell_type": "markdown",
   "metadata": {},
   "source": [
    "### Q03. Compute log(x)"
   ]
  },
  {
   "cell_type": "code",
   "execution_count": 6,
   "metadata": {},
   "outputs": [
    {
     "name": "stdout",
     "output_type": "stream",
     "text": [
      "log(1) = 0.000000\n",
      "log(2) = 0.693147\n",
      "log(3) = 1.098612\n",
      "log(4) = 1.386294\n",
      "log(5) = 1.609438\n",
      "log(6) = 1.791759\n",
      "log(7) = 1.945910\n",
      "log(8) = 2.079442\n",
      "log(9) = 2.197225\n",
      "log(10) = 2.302585\n"
     ]
    }
   ],
   "source": [
    "import math\n",
    "for i in range(1,11):\n",
    "    print(\"log(%i) = %f\" %(i,math.log(i))) "
   ]
  },
  {
   "cell_type": "markdown",
   "metadata": {},
   "source": [
    "<u>More log(x)!!!</u>"
   ]
  },
  {
   "cell_type": "code",
   "execution_count": 35,
   "metadata": {},
   "outputs": [
    {
     "name": "stdout",
     "output_type": "stream",
     "text": [
      "*\n",
      "# of spaces:0\n",
      "                    *\n",
      "# of spaces:20\n",
      "                                *\n",
      "# of spaces:32\n",
      "                                         *\n",
      "# of spaces:41\n",
      "                                                *\n",
      "# of spaces:48\n",
      "                                                     *\n",
      "# of spaces:53\n",
      "                                                          *\n",
      "# of spaces:58\n",
      "                                                              *\n",
      "# of spaces:62\n",
      "                                                                 *\n",
      "# of spaces:65\n",
      "                                                                     *\n",
      "# of spaces:69\n",
      "                                                                       *\n",
      "# of spaces:71\n",
      "                                                                          *\n",
      "# of spaces:74\n",
      "                                                                            *\n",
      "# of spaces:76\n",
      "                                                                               *\n",
      "# of spaces:79\n",
      "                                                                                 *\n",
      "# of spaces:81\n",
      "                                                                                   *\n",
      "# of spaces:83\n",
      "                                                                                    *\n",
      "# of spaces:84\n",
      "                                                                                      *\n",
      "# of spaces:86\n",
      "                                                                                        *\n",
      "# of spaces:88\n",
      "                                                                                         *\n",
      "# of spaces:89\n"
     ]
    }
   ],
   "source": [
    "import math\n",
    "\n",
    "for i in range(1,21):\n",
    "    k = math.log(i)*30.0\n",
    "    print(\"%s*\" %(\" \"*int(k)))\n",
    "    print(\"# of spaces:%s%i\" %(\"\"*int(k),k))"
   ]
  },
  {
   "cell_type": "markdown",
   "metadata": {},
   "source": [
    "### Q04. Sine Cosine Tangent"
   ]
  },
  {
   "cell_type": "markdown",
   "metadata": {},
   "source": [
    "How to transform degree into radian?<br>\n",
    "=> radian = (degree * phi) / 180"
   ]
  },
  {
   "cell_type": "code",
   "execution_count": 38,
   "metadata": {},
   "outputs": [
    {
     "name": "stdout",
     "output_type": "stream",
     "text": [
      "SIN(30) = 0.500000\n",
      "SIN(30) = 0.500000\n",
      "          \n",
      "COS(30) = 0.866025\n",
      "COS(30) = 0.866025\n",
      "          \n",
      "TAN(30) = 0.577350\n",
      "TAN(30) = 0.577350\n"
     ]
    }
   ],
   "source": [
    "import math\n",
    "\n",
    "print(\"SIN(30) = %f\" %(math.sin((30*3.141592)/180.0)))\n",
    "print(\"SIN(30) = %f\" %(math.sin(math.radians(30))))\n",
    "print(\" \"*10)\n",
    "print(\"COS(30) = %f\" %(math.cos((30*3.141592)/180.0)))\n",
    "print(\"COS(30) = %f\" %(math.cos(math.radians(30))))\n",
    "print(\" \"*10)\n",
    "print(\"TAN(30) = %f\" %(math.tan((30*3.141592)/180.0)))\n",
    "print(\"TAN(30) = %f\" %(math.tan(math.radians(30))))"
   ]
  },
  {
   "cell_type": "markdown",
   "metadata": {},
   "source": [
    "### Q05. AVERAGE WITH %f"
   ]
  },
  {
   "cell_type": "code",
   "execution_count": 1,
   "metadata": {},
   "outputs": [
    {
     "name": "stdout",
     "output_type": "stream",
     "text": [
      "type integer only: 1\n",
      "type integer only: 2\n",
      "type integer only: 3\n",
      "type integer only: 4\n",
      "average of 1,2,3,4 : 2.500000 \n"
     ]
    }
   ],
   "source": [
    "a = int(input(\"type integer only: \"))\n",
    "b = int(input(\"type integer only: \"))\n",
    "c = int(input(\"type integer only: \"))\n",
    "d = int(input(\"type integer only: \"))\n",
    "\n",
    "avg = (a+b+c+d)/4\n",
    "print(\"average of %i,%i,%i,%i : %f \" %(a,b,c,d, avg))"
   ]
  },
  {
   "cell_type": "markdown",
   "metadata": {},
   "source": [
    "### Q06. Power function"
   ]
  },
  {
   "cell_type": "code",
   "execution_count": 1,
   "metadata": {},
   "outputs": [
    {
     "name": "stdout",
     "output_type": "stream",
     "text": [
      "type a number( in the range 1 to 100): 12\n",
      "power of (12 -1)^3 : 1331\n"
     ]
    }
   ],
   "source": [
    "x = 0\n",
    "while(x < 1 ):\n",
    "    x = int(input(\"type a number( in the range 1 to 100): \"))\n",
    "\n",
    "#aaa=(a-1)**3 or (a-1)*(a-1)*(a-1)\n",
    "aaa=pow((x-1),3)\n",
    "print(\"power of (%i -1)^3 : %i\" %(x,aaa))\n"
   ]
  },
  {
   "cell_type": "markdown",
   "metadata": {},
   "source": [
    "### Q07. Compare numbers[the highest]"
   ]
  },
  {
   "cell_type": "code",
   "execution_count": 5,
   "metadata": {},
   "outputs": [
    {
     "name": "stdout",
     "output_type": "stream",
     "text": [
      "(1)type a number(1~100): 1\n",
      "[1, 0, 0, 0, 0, 0, 0, 0, 0, 0]\n",
      "(2)type a number(1~100): 2\n",
      "[1, 2, 0, 0, 0, 0, 0, 0, 0, 0]\n",
      "(3)type a number(1~100): 3\n",
      "[1, 2, 3, 0, 0, 0, 0, 0, 0, 0]\n",
      "(4)type a number(1~100): 2\n",
      "[1, 2, 3, 2, 0, 0, 0, 0, 0, 0]\n",
      "(5)type a number(1~100): 3\n",
      "[1, 2, 3, 2, 3, 0, 0, 0, 0, 0]\n",
      "(6)type a number(1~100): 2\n",
      "[1, 2, 3, 2, 3, 2, 0, 0, 0, 0]\n",
      "(7)type a number(1~100): 4\n",
      "[1, 2, 3, 2, 3, 2, 4, 0, 0, 0]\n",
      "(8)type a number(1~100): 5\n",
      "[1, 2, 3, 2, 3, 2, 4, 5, 0, 0]\n",
      "(9)type a number(1~100): 6\n",
      "[1, 2, 3, 2, 3, 2, 4, 5, 6, 0]\n",
      "(10)type a number(1~100): 10\n",
      "[1, 2, 3, 2, 3, 2, 4, 5, 6, 10]\n",
      "the highest number is: 10\n"
     ]
    }
   ],
   "source": [
    "##### initialize list\n",
    "numbers = []\n",
    "for i in range(10):\n",
    "    numbers.append(0)\n",
    "\n",
    "highest = 0\n",
    "\n",
    "for i in range(10):\n",
    "    while(numbers[i] < 1 or numbers[i] > 101):\n",
    "        numbers[i] = int(input(\"(%i)type a number(1~100): \" %(i+1)))\n",
    "    if(highest < numbers[i]):\n",
    "        highest = numbers[i]\n",
    "    print(numbers)\n",
    "\n",
    "print(\"the highest number is: %i\" %highest)"
   ]
  },
  {
   "cell_type": "markdown",
   "metadata": {},
   "source": [
    "### Q08. Compare numbers[min&max]"
   ]
  },
  {
   "cell_type": "code",
   "execution_count": 3,
   "metadata": {},
   "outputs": [
    {
     "name": "stdout",
     "output_type": "stream",
     "text": [
      "(1) type in(1~100):12\n",
      "\n",
      "current array:\n",
      "[12, 0, 0, 0, 0]\n",
      "\n",
      "(2) type in(1~100):44\n",
      "\n",
      "current array:\n",
      "[12, 44, 0, 0, 0]\n",
      "\n",
      "(3) type in(1~100):44\n",
      "\n",
      "current array:\n",
      "[12, 44, 44, 0, 0]\n",
      "\n",
      "(4) type in(1~100):22\n",
      "\n",
      "current array:\n",
      "[12, 44, 44, 22, 0]\n",
      "\n",
      "(5) type in(1~100):55\n",
      "\n",
      "current array:\n",
      "[12, 44, 44, 22, 55]\n",
      "\n",
      "min: 12\n",
      "max: 55\n"
     ]
    }
   ],
   "source": [
    "numbers = []\n",
    "for i in range(5):\n",
    "    numbers.append(0)\n",
    "\n",
    "min = 999\n",
    "max = 0\n",
    "\n",
    "for i in range(5):\n",
    "    while numbers[i] < 1 or numbers[i] > 999:\n",
    "        numbers[i] = int(input(\"(%i) type in(1~100):\" %(i+1) ))\n",
    "        if max < numbers[i]:\n",
    "            max = numbers[i]\n",
    "\n",
    "        if min > numbers[i]:\n",
    "            min = numbers[i]\n",
    "        print(\"\")\n",
    "        print(\"current array:\")\n",
    "        print(numbers)\n",
    "        print(\"\")\n",
    "\n",
    "print(\"min: %i\" %min)\n",
    "print(\"max: %i\" %max)"
   ]
  },
  {
   "cell_type": "code",
   "execution_count": null,
   "metadata": {},
   "outputs": [],
   "source": []
  }
 ],
 "metadata": {
  "kernelspec": {
   "display_name": "Python 3.6 (tensorflow)",
   "language": "python",
   "name": "tensorflow"
  },
  "language_info": {
   "codemirror_mode": {
    "name": "ipython",
    "version": 3
   },
   "file_extension": ".py",
   "mimetype": "text/x-python",
   "name": "python",
   "nbconvert_exporter": "python",
   "pygments_lexer": "ipython3",
   "version": "3.6.8"
  }
 },
 "nbformat": 4,
 "nbformat_minor": 2
}
