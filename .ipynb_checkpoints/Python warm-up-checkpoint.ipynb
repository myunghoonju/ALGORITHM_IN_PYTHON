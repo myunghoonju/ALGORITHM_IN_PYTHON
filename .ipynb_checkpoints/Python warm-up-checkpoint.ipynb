{
 "cells": [
  {
   "cell_type": "markdown",
   "metadata": {},
   "source": [
    "### Print and input things"
   ]
  },
  {
   "cell_type": "code",
   "execution_count": 2,
   "metadata": {},
   "outputs": [
    {
     "name": "stdout",
     "output_type": "stream",
     "text": [
      "Hellow?\n",
      "type your name: JU MYUNG HOON\n",
      "your name is JU MYUNG HOON\n",
      "yor name is JU MYUNG HOON\n",
      "yor name is JU MYUNG HOON\n"
     ]
    }
   ],
   "source": [
    "#Several ways of printing name\n",
    "\n",
    "print(\"Hellow?\")\n",
    "name = input(\"type your name: \")\n",
    "\n",
    "print(\"your name is {s}\".format(s=name)) #1\n",
    "print(\"yor name is {}\".format(name)) #2\n",
    "print(\"yor name is %s\" %(name)) #3"
   ]
  },
  {
   "cell_type": "code",
   "execution_count": 6,
   "metadata": {},
   "outputs": [
    {
     "name": "stdout",
     "output_type": "stream",
     "text": [
      "type a number: 40\n",
      "type another number: 20\n",
      "20\n"
     ]
    }
   ],
   "source": [
    "#input command\n",
    "#enter two numbers\n",
    "#subtract number02 from number01\n",
    "number01 = input(\"type a number: \")\n",
    "number02 = input(\"type another number: \")\n",
    "print(int(number01)-int(number02))"
   ]
  },
  {
   "cell_type": "markdown",
   "metadata": {},
   "source": [
    "### Function for checking whether <u>string</u> can convert to <u>int</u>"
   ]
  },
  {
   "cell_type": "code",
   "execution_count": 8,
   "metadata": {},
   "outputs": [
    {
     "name": "stdout",
     "output_type": "stream",
     "text": [
      "type a number1: 30\n",
      "type a number2: 20\n",
      "10\n"
     ]
    }
   ],
   "source": [
    "def isNumber(s):\n",
    "    try:\n",
    "        int(s)\n",
    "        return True\n",
    "    except ValueError:\n",
    "        return False\n",
    "#input\n",
    "num1 = input(\"type a number1: \")\n",
    "num2 = input(\"type a number2: \")\n",
    "\n",
    "#if num1,2 are able to convert to int then compute!\n",
    "if isNumber(num1) and isNumber(num2):\n",
    "    print(int(num1)-int(num2))\n",
    "else:\n",
    "    print(\"All of them are not integer!\")"
   ]
  },
  {
   "cell_type": "markdown",
   "metadata": {},
   "source": [
    "### What type is it?"
   ]
  },
  {
   "cell_type": "code",
   "execution_count": 18,
   "metadata": {},
   "outputs": [
    {
     "name": "stdout",
     "output_type": "stream",
     "text": [
      "Processing...\n",
      "you are 1 so...\n",
      "----------\n",
      "you are INTEGER\n"
     ]
    }
   ],
   "source": [
    "def isInt(s):\n",
    "    if(type(s) is int):\n",
    "        return True\n",
    "    else:\n",
    "        return False\n",
    "\n",
    "def isFloat(s):\n",
    "    if(type(s) is float):\n",
    "        return True\n",
    "    else:\n",
    "        False\n",
    "\n",
    "def isStr(s):\n",
    "    if(type(s) is str):\n",
    "        return True\n",
    "    else:\n",
    "        return False\n",
    "\n",
    "\n",
    "#choose input here\n",
    "s = 1\n",
    "\n",
    "print('Processing...');\n",
    "print(\"you are {} so...\" .format(s));\n",
    "print('-'*10);\n",
    "\n",
    "\n",
    "if(isInt(s)):\n",
    "    print(\"you are INTEGER\")\n",
    "\n",
    "if(isFloat(s)):\n",
    "    print(\"you are FLOAT\")\n",
    "\n",
    "if(isStr(s)):\n",
    "    print(\"you are STRING\")"
   ]
  }
 ],
 "metadata": {
  "kernelspec": {
   "display_name": "Python 3.6 (tensorflow)",
   "language": "python",
   "name": "tensorflow"
  },
  "language_info": {
   "codemirror_mode": {
    "name": "ipython",
    "version": 3
   },
   "file_extension": ".py",
   "mimetype": "text/x-python",
   "name": "python",
   "nbconvert_exporter": "python",
   "pygments_lexer": "ipython3",
   "version": "3.6.8"
  }
 },
 "nbformat": 4,
 "nbformat_minor": 2
}
