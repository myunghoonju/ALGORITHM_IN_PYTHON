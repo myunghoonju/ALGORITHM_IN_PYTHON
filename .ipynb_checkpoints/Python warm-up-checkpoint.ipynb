{
 "cells": [
  {
   "cell_type": "markdown",
   "metadata": {},
   "source": [
    "### Print and input things"
   ]
  },
  {
   "cell_type": "code",
   "execution_count": 2,
   "metadata": {},
   "outputs": [
    {
     "name": "stdout",
     "output_type": "stream",
     "text": [
      "Hellow?\n",
      "type your name: JU MYUNG HOON\n",
      "your name is JU MYUNG HOON\n",
      "yor name is JU MYUNG HOON\n",
      "yor name is JU MYUNG HOON\n"
     ]
    }
   ],
   "source": [
    "#Several ways of printing name\n",
    "\n",
    "print(\"Hellow?\")\n",
    "name = input(\"type your name: \")\n",
    "\n",
    "print(\"your name is {s}\".format(s=name)) #1\n",
    "print(\"yor name is {}\".format(name)) #2\n",
    "print(\"yor name is %s\" %(name)) #3"
   ]
  },
  {
   "cell_type": "code",
   "execution_count": 6,
   "metadata": {},
   "outputs": [
    {
     "name": "stdout",
     "output_type": "stream",
     "text": [
      "type a number: 40\n",
      "type another number: 20\n",
      "20\n"
     ]
    }
   ],
   "source": [
    "#input command\n",
    "#enter two numbers\n",
    "#subtract number02 from number01\n",
    "number01 = input(\"type a number: \")\n",
    "number02 = input(\"type another number: \")\n",
    "print(int(number01)-int(number02))"
   ]
  },
  {
   "cell_type": "markdown",
   "metadata": {},
   "source": [
    "### Function for checking whether <u>string</u> can convert to <u>int</u>"
   ]
  },
  {
   "cell_type": "code",
   "execution_count": 8,
   "metadata": {},
   "outputs": [
    {
     "name": "stdout",
     "output_type": "stream",
     "text": [
      "type a number1: 30\n",
      "type a number2: 20\n",
      "10\n"
     ]
    }
   ],
   "source": [
    "def isNumber(s):\n",
    "    try:\n",
    "        int(s)\n",
    "        return True\n",
    "    except ValueError:\n",
    "        return False\n",
    "#input\n",
    "num1 = input(\"type a number1: \")\n",
    "num2 = input(\"type a number2: \")\n",
    "\n",
    "#if num1,2 are able to convert to int then compute!\n",
    "if isNumber(num1) and isNumber(num2):\n",
    "    print(int(num1)-int(num2))\n",
    "else:\n",
    "    print(\"All of them are not integer!\")"
   ]
  },
  {
   "cell_type": "markdown",
   "metadata": {},
   "source": [
    "### What type is it?"
   ]
  },
  {
   "cell_type": "code",
   "execution_count": 18,
   "metadata": {},
   "outputs": [
    {
     "name": "stdout",
     "output_type": "stream",
     "text": [
      "Processing...\n",
      "you are 1 so...\n",
      "----------\n",
      "you are INTEGER\n"
     ]
    }
   ],
   "source": [
    "def isInt(s):\n",
    "    if(type(s) is int):\n",
    "        return True\n",
    "    else:\n",
    "        return False\n",
    "\n",
    "def isFloat(s):\n",
    "    if(type(s) is float):\n",
    "        return True\n",
    "    else:\n",
    "        False\n",
    "\n",
    "def isStr(s):\n",
    "    if(type(s) is str):\n",
    "        return True\n",
    "    else:\n",
    "        return False\n",
    "\n",
    "\n",
    "#choose input here\n",
    "s = 1\n",
    "\n",
    "print('Processing...');\n",
    "print(\"you are {} so...\" .format(s));\n",
    "print('-'*10);\n",
    "\n",
    "\n",
    "if(isInt(s)):\n",
    "    print(\"you are INTEGER\")\n",
    "\n",
    "if(isFloat(s)):\n",
    "    print(\"you are FLOAT\")\n",
    "\n",
    "if(isStr(s)):\n",
    "    print(\"you are STRING\")"
   ]
  },
  {
   "cell_type": "markdown",
   "metadata": {},
   "source": [
    "### math module test! \n",
    "    -ceil,floor,sin,cos"
   ]
  },
  {
   "cell_type": "code",
   "execution_count": 26,
   "metadata": {},
   "outputs": [
    {
     "name": "stdout",
     "output_type": "stream",
     "text": [
      "type a number10.111111\n",
      "celiing of 11.000000\n",
      "floor of 10.000000\n",
      "Symmetric rounding towards and away: 10.110000\n"
     ]
    }
   ],
   "source": [
    "import math \n",
    "num = input(\"type a number\")\n",
    "num1 = float(num)\n",
    "print(\"celiing of %f\" %(math.ceil(num1)))\n",
    "print(\"floor of %f\" %(math.floor(num1)))\n",
    "print(\"Symmetric rounding towards and away: %f\" %(round(num1,2)))\n",
    "\n"
   ]
  },
  {
   "cell_type": "markdown",
   "metadata": {},
   "source": [
    "### Dealing with spaces"
   ]
  },
  {
   "cell_type": "code",
   "execution_count": 28,
   "metadata": {},
   "outputs": [
    {
     "name": "stdout",
     "output_type": "stream",
     "text": [
      "type your name here:               MUNYHOON\n",
      "your name is MUNYHOON\n"
     ]
    }
   ],
   "source": [
    "name = input(\"type your name here:\")\n",
    "n = name.strip()\n",
    "if(n != \"\"):\n",
    "    print(\"your name is %s\" %n)\n",
    "else:\n",
    "    print(\"Re-type please...\")"
   ]
  },
  {
   "cell_type": "code",
   "execution_count": 31,
   "metadata": {},
   "outputs": [
    {
     "name": "stdout",
     "output_type": "stream",
     "text": [
      "type 'WAR' :WAR\n",
      "type 'HISTORY' :HISTORY\n",
      "WAR HISTORY\n"
     ]
    }
   ],
   "source": [
    "str01 = input(\"type 'WAR' :\")\n",
    "str02 = input(\"type 'HISTORY' :\")\n",
    "print(str01 + \" \" + str02)"
   ]
  },
  {
   "cell_type": "markdown",
   "metadata": {},
   "source": [
    "### Dealing with strings"
   ]
  },
  {
   "cell_type": "code",
   "execution_count": 40,
   "metadata": {},
   "outputs": [
    {
     "name": "stdout",
     "output_type": "stream",
     "text": [
      "**********\n",
      "JULIA IS A NINETEEN-YEAR-OLD LADY\n",
      "J\n",
      "JULIA\n",
      "JULIA\n",
      " NINETEEN\n",
      " NINETEEN-YEAR-OLD LADY\n",
      "LADY\n",
      "**********\n"
     ]
    }
   ],
   "source": [
    "s = \"JULIA IS A NINETEEN-YEAR-OLD LADY\"\n",
    "print('*'*10)\n",
    "print(s)\n",
    "print(s[0])\n",
    "print(s[0] + s[1] + s[2] + s[3] + s[4])\n",
    "print(s[0:5])\n",
    "print(s[10:19])\n",
    "print(s[10:])\n",
    "print(s[-4]+s[-3]+s[-2]+s[-1])\n",
    "print(\"*\"*10)"
   ]
  },
  {
   "cell_type": "code",
   "execution_count": 76,
   "metadata": {},
   "outputs": [
    {
     "name": "stdout",
     "output_type": "stream",
     "text": [
      "JULIA IS A NINETEEN-YEAR-OLD BOY\n",
      "----------\n",
      "JULIA IS A NINETEEN-YEAR-OLD GIRL\n",
      "YOU ARE A NINETEEN-YEAR-OLD BOY\n",
      "----------\n",
      "length of s:31\n",
      "length of s:31\n",
      "----------\n",
      "HOW MANY A's ARE? 3\n",
      "----------\n",
      "YOU ARE A NINETEEN-YEAR-OLD BOY meowing~\n",
      "----------\n",
      "['MARIA', '', '-20-', 'AGE', '.']\n",
      "['MARIA', '', '-20-', 'AGE', '.']\n",
      "MARIA-20-AGE.\n",
      "----------\n",
      "YOU ARE A NINETEEN-YEAR-OLD BOY\n",
      "4\n",
      "0\n",
      "-1\n",
      "----------\n",
      "YOU ARE A NINETEEN-YEAR-OLD BOY\n",
      "Y O U   A R E   A   N I N E T E E N - Y E A R - O L D   B O Y\n",
      "['YOU', 'ARE', 'A', 'NINETEEN-YEAR-OLD', 'BOY']\n"
     ]
    }
   ],
   "source": [
    "#string is like a tuple!!\n",
    "s = \"JULIA IS A NINETEEN-YEAR-OLD LADY\"\n",
    "s = s[:-5] + ' BOY' #reallocation needed\n",
    "\n",
    "print(s)\n",
    "print('-' * 10)\n",
    "print(s.replace('BOY','GIRL'))\n",
    "\n",
    "s = \"YOU ARE A\" +s[10:] \n",
    "print(s)\n",
    "print('-' * 10)\n",
    "print(\"length of s:\" + str(len(s)))\n",
    "print(\"length of s:%d\" %len(s))\n",
    "print('-' * 10)\n",
    "print(\"HOW MANY A's ARE? %d\"  %s.count('A'))\n",
    "\n",
    "print('-' * 10)\n",
    "tail = ' meowing~'\n",
    "print(s + tail)\n",
    "\n",
    "print('-'*10)\n",
    "list = ['MARIA','','-20-','AGE','.']\n",
    "print(list)\n",
    "print(str(list))\n",
    "print(''.join(list))\n",
    "\n",
    "print('-'*10)\n",
    "print(s)\n",
    "print(s.find('A'))\n",
    "print(s.find('Y'))\n",
    "print(s.find('Z')) #not exists\n",
    "\n",
    "print('-'*10)\n",
    "print(s)\n",
    "print(' '.join(s))#separateed by ' '\n",
    "print(s.split())#a list separated by ' '"
   ]
  },
  {
   "cell_type": "markdown",
   "metadata": {},
   "source": [
    "### Print a computed result"
   ]
  },
  {
   "cell_type": "code",
   "execution_count": 86,
   "metadata": {},
   "outputs": [
    {
     "name": "stdout",
     "output_type": "stream",
     "text": [
      "type a number: 1\n",
      "again: 1\n",
      "1 + 1 = 2\n",
      "1 x 1 = 1\n",
      "1 - 1 = 0\n"
     ]
    }
   ],
   "source": [
    "num01 = input(\"type a number: \")\n",
    "num02 = input(\"again: \")\n",
    "print(\"%s + %s = %i\" %(num01,num02,int(num01)+int(num02)))\n",
    "print(\"%i x %i = %i\" %(int(num01),int(num02),int(num01)*int(num02)))\n",
    "print(num01 + \" - \" + num02 + \" = \" + str((int(num01)-int(num02))))"
   ]
  }
 ],
 "metadata": {
  "kernelspec": {
   "display_name": "Python 3.6 (tensorflow)",
   "language": "python",
   "name": "tensorflow"
  },
  "language_info": {
   "codemirror_mode": {
    "name": "ipython",
    "version": 3
   },
   "file_extension": ".py",
   "mimetype": "text/x-python",
   "name": "python",
   "nbconvert_exporter": "python",
   "pygments_lexer": "ipython3",
   "version": "3.6.8"
  }
 },
 "nbformat": 4,
 "nbformat_minor": 2
}
